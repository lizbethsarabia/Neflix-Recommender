{
 "cells": [
  {
   "cell_type": "code",
   "execution_count": null,
   "id": "31cc6236",
   "metadata": {},
   "outputs": [],
   "source": [
    "from recommender_core import load_data, build_model, recommend\n",
    "\n",
    "# Load + build\n",
    "df = load_data(\"netflix_titles.csv\")\n",
    "cosine_sim = build_model(df)\n",
    "\n",
    "# Test\n",
    "recommend(\"Breaking Bad\", df, cosine_sim)\n"
   ]
  }
 ],
 "metadata": {
  "kernelspec": {
   "display_name": "Python 3",
   "language": "python",
   "name": "python3"
  },
  "language_info": {
   "codemirror_mode": {
    "name": "ipython",
    "version": 3
   },
   "file_extension": ".py",
   "mimetype": "text/x-python",
   "name": "python",
   "nbconvert_exporter": "python",
   "pygments_lexer": "ipython3",
   "version": "3.13.7"
  }
 },
 "nbformat": 4,
 "nbformat_minor": 5
}
